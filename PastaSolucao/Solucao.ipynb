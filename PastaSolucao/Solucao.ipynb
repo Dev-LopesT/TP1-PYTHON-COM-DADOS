{
 "cells": [
  {
   "cell_type": "markdown",
   "metadata": {},
   "source": [
    "Chegamos em uma das etapas de preparação! A cada Teste de Performance (TP) você terá a oportunidade de praticar os conhecimentos adquiridos e receber feedbacks relevantes para o seu aprendizado.\n",
    "\n",
    "## **Contexto**\n",
    "Imagine que você é um cientista de dados trabalhando em um projeto de análise de dados de uma rede social fictícia chamada INFwebNET. O INFwebNET armazena informações sobre usuários e suas conexões em diferentes arquivos. Seu objetivo é usar seus conhecimentos de Python para processar esses dados e extrair informações relevantes.\n",
    "\n"
   ]
  },
  {
   "cell_type": "markdown",
   "metadata": {},
   "source": [
    "#### Níveis de Dificuldade\n",
    "- Fácil (⭐): Envolve conceitos básicos e aplicação direta de métodos.\n",
    "\n",
    "- Médio (⭐⭐): Requer maior compreensão dos conceitos e combinação de diferentes métodos.\n",
    "\n",
    "- Difícil (⭐⭐⭐): Exige aplicação criativa dos conceitos, resolução de problemas e otimização de código.\n",
    "\n",
    "\n"
   ]
  },
  {
   "cell_type": "markdown",
   "metadata": {},
   "source": [
    "\n",
    "#### Uso de IAs: Sinal Vermelho 🔴 \n",
    "Todas as partes deste trabalho devem ser da autoria do aluno. Qualquer uso de ferramentas generativas de IA, como ChatGPT, é proibido. O uso de IA generativa será considerado má conduta acadêmica e estará sujeito à aplicação do código disciplinar, pois as tarefas deste trabalho foram elaboradas para desafiar o aluno a desenvolver conhecimentos de base, pensamento crítico e habilidades de resolução de problemas. O uso da tecnologia de IA limitaria sua capacidade de desenvolver essas competências e de atingir os objetivos de aprendizagem desta disciplina.\n"
   ]
  },
  {
   "cell_type": "markdown",
   "metadata": {},
   "source": [
    "# Requisitos"
   ]
  },
  {
   "cell_type": "markdown",
   "metadata": {},
   "source": [
    "### 1. Aquecendo os motores ⭐\n",
    "\n",
    "- Crie uma lista chamada ‘usuarios’ que contenha ao menos 5 listas. Cada lista interna deve representar um usuário do INFwebNET com as seguintes informações: nome (string), idade (inteiro), cidade (string) e estado (string).\n",
    "\n"
   ]
  },
  {
   "cell_type": "code",
   "execution_count": 17,
   "metadata": {},
   "outputs": [
    {
     "name": "stdout",
     "output_type": "stream",
     "text": [
      "[['Thiago Lopes', 28, 'São Paulo', 'SP'], ['Maria Silva', 23, 'Belo Horizonte', 'MG'], ['José Santos', 35, 'Rio de Janeiro', 'RJ'], ['Paulo Roberto', 45, 'Curitiba', 'PR'], ['Ana Maria', 30, 'São Paulo', 'SP']]\n"
     ]
    }
   ],
   "source": [
    "usuarios_infwenet = [\n",
    "  [\"Thiago Lopes\", 28,\"São Paulo\", \"SP\"],\n",
    "  [\"Maria Silva\", 23, \"Belo Horizonte\", \"MG\"],\n",
    "  [\"José Santos\", 35, \"Rio de Janeiro\", \"RJ\"],\n",
    "  [\"Paulo Roberto\", 45, \"Curitiba\", \"PR\"],\n",
    "  [\"Ana Maria\", 30, \"São Paulo\", \"SP\"]\n",
    "]\n",
    "\n",
    "print(usuarios_infwenet)"
   ]
  },
  {
   "cell_type": "markdown",
   "metadata": {},
   "source": [
    "### 2. Perfil ⭐⭐\n",
    "\n",
    "- Escreva um programa que leia os dados da lista ‘usuarios’ criada no exercício anterior e crie um dicionário para cada usuário. Cada dicionário deve ter as chaves \"nome\" e \"idade\" com os respectivos valores, e a chave \"localização\" contendo uma tupla (cidade, estado). Armazene esses dicionários em uma nova lista chamada perfis.\n",
    "\n"
   ]
  },
  {
   "cell_type": "code",
   "execution_count": 2,
   "metadata": {},
   "outputs": [
    {
     "name": "stdout",
     "output_type": "stream",
     "text": [
      "[{'nome': 'Thiago Lopes', 'idade': 28, 'endereco': ('São Paulo', 'SP')}, {'nome': 'Maria Silva', 'idade': 23, 'endereco': ('Belo Horizonte', 'MG')}, {'nome': 'José Santos', 'idade': 35, 'endereco': ('Rio de Janeiro', 'RJ')}, {'nome': 'Paulo Roberto', 'idade': 45, 'endereco': ('Curitiba', 'PR')}, {'nome': 'Ana Maria', 'idade': 30, 'endereco': ('São Paulo', 'SP')}]\n"
     ]
    }
   ],
   "source": [
    "perfis = []\n",
    "\n",
    "def criar_perfis(usuarios_infwenet, perfis):\n",
    "\n",
    "    for usuario in usuarios_infwenet:\n",
    "        perfil = {\n",
    "            \"nome\": usuario[0],\n",
    "            \"idade\": usuario[1],\n",
    "            \"endereco\": (usuario[2], usuario[3])\n",
    "        }\n",
    "        perfis.append(perfil)\n",
    "    return perfis\n",
    "\n",
    "perfis = criar_perfis(usuarios_infwenet, perfis)\n",
    "\n",
    "print(perfis)"
   ]
  },
  {
   "cell_type": "markdown",
   "metadata": {},
   "source": [
    "### 3. Comparando Estruturas ⭐⭐⭐\n",
    "\n",
    "- Explique, em poucas palavras, as principais diferenças entre uma lista, um dicionário e uma tupla em Python. Dê exemplos de como cada estrutura pode ser usada no contexto da análise de dados do INFwebNET.\n",
    "\n"
   ]
  },
  {
   "cell_type": "markdown",
   "metadata": {},
   "source": [
    "#### **Resposta:**\n",
    "\n",
    "##### Lista:\n",
    "\n",
    "É um grupo de itens ordenados e mutáveis. Isso nos permite adicionar, remover e alterar itens de uma forma menos problemática. Uma Lista é Ideal para armazenarmos dados relacionados como transações de pagamento, estoque de produtos, etc.\n",
    "\n",
    "##### Dicionário: \n",
    "\n",
    "É um grupo de itens que armazena pares! No formato: (chave-valor). É mutável e desordenada. Podemos utilizar dicionários para representar informações complexas com identificadores claros, como dados de um usuário individual, onde as chaves são nomes dos atributos.\n",
    "\n",
    "#####  Tupla:\n",
    "\n",
    "É um grupo de itens similar a de uma lista, mas é imutável!! Isso significa que, após criada, seus elementos não podem ser modificados. A Tupla é perfeita para armazenar dados que não devem ser alterados, como coordenadas geográficas, pares de cidade e estado, ou identificadores fixos.\n"
   ]
  },
  {
   "cell_type": "code",
   "execution_count": 3,
   "metadata": {},
   "outputs": [
    {
     "name": "stdout",
     "output_type": "stream",
     "text": [
      "(21, 10, 1980)\n",
      "{'nome': 'Ana Silva', 'idade': 28, 'localização': ('São Paulo', 'SP')}\n",
      "[['Thiago Lopes', 28, 'São Paulo', 'SP'], ['Maria Silva', 23, 'Belo Horizonte', 'MG'], ['José Santos', 35, 'Rio de Janeiro', 'RJ'], ['Paulo Roberto', 45, 'Curitiba', 'PR'], ['Ana Maria', 30, 'São Paulo', 'SP']]\n"
     ]
    }
   ],
   "source": [
    "#Exemplo de Lista - \n",
    "users = [\n",
    "  [\"Thiago Lopes\", 28,\"São Paulo\", \"SP\"],\n",
    "  [\"Maria Silva\", 23, \"Belo Horizonte\", \"MG\"],\n",
    "  [\"José Santos\", 35, \"Rio de Janeiro\", \"RJ\"],\n",
    "  [\"Paulo Roberto\", 45, \"Curitiba\", \"PR\"],\n",
    "  [\"Ana Maria\", 30, \"São Paulo\", \"SP\"]\n",
    "]\n",
    "\n",
    "##Exemplo de Dicionário - \n",
    "\n",
    "user = {\n",
    "    \"nome\": \"Ana Silva\",\n",
    "    \"idade\": 28,\n",
    "    \"localização\": (\"São Paulo\", \"SP\")\n",
    "}\n",
    "\n",
    "##Exempçlo de Tupla - \n",
    "\n",
    "data_nascimento = (21, 10, 1980)\n",
    "\n",
    "print(data_nascimento)\n",
    "print(user)\n",
    "print(users)\n"
   ]
  },
  {
   "cell_type": "markdown",
   "metadata": {},
   "source": [
    "### 4. Limpando o terreno ⭐⭐\n",
    "\n",
    "- Alguns usuários do INFwebNET forneceram informações incompletas. Remova da lista perfis todos os perfis que não possuem as informações de \"nome\" ou \"cidade\". Mantenha a lista perfis original intacta, criando uma nova lista chamada perfis_validos para armazenar os perfis válidos.\n",
    "\n"
   ]
  },
  {
   "cell_type": "code",
   "execution_count": 4,
   "metadata": {},
   "outputs": [
    {
     "name": "stdout",
     "output_type": "stream",
     "text": [
      "[{'nome': 'Thiago Lopes', 'idade': 28, 'endereco': ('São Paulo', 'SP')}, {'nome': 'Maria Silva', 'idade': 23, 'endereco': ('Belo Horizonte', 'MG')}, {'nome': 'José Santos', 'idade': 35, 'endereco': ('Rio de Janeiro', 'RJ')}, {'nome': 'Paulo Roberto', 'idade': 45, 'endereco': ('Curitiba', 'PR')}, {'nome': 'Ana Maria', 'idade': 30, 'endereco': ('São Paulo', 'SP')}]\n"
     ]
    }
   ],
   "source": [
    "perfis_validos = []\n",
    "\n",
    "def filtrar_perfis_validos(perfis, perfis_validos):\n",
    "  \n",
    "    for perfil in perfis:\n",
    "        if perfil.get(\"nome\") and perfil.get(\"endereco\")[0]: \n",
    "            perfis_validos.append(perfil)\n",
    "    return perfis_validos\n",
    "\n",
    "perfis_validos = filtrar_perfis_validos(perfis, perfis_validos)\n",
    "  \n",
    "print(perfis_validos)"
   ]
  },
  {
   "cell_type": "markdown",
   "metadata": {},
   "source": [
    "### 5. Carregando dados ⭐⭐⭐\n",
    "\n",
    "- Crie uma implementação que leia os dados presentes no arquivo \"base_inicial.txt\" e os armazene na lista perfis_validos, criando novas palavras-chave para os dados adicionais encontrados. (O arquivo está disponível no repositório.)\n",
    "\n"
   ]
  },
  {
   "cell_type": "code",
   "execution_count": 5,
   "metadata": {},
   "outputs": [
    {
     "name": "stdout",
     "output_type": "stream",
     "text": [
      "[{'nome': 'Thiago Lopes', 'idade': 28, 'endereco': ('São Paulo', 'SP')}, {'nome': 'Maria Silva', 'idade': 23, 'endereco': ('Belo Horizonte', 'MG')}, {'nome': 'José Santos', 'idade': 35, 'endereco': ('Rio de Janeiro', 'RJ')}, {'nome': 'Paulo Roberto', 'idade': 45, 'endereco': ('Curitiba', 'PR')}, {'nome': 'Ana Maria', 'idade': 30, 'endereco': ('São Paulo', 'SP')}, {'nome': 'nome', 'idade': None, 'endereco': ('cidade', 'estado')}, {'nome': 'João', 'idade': 25, 'endereco': ('Rio de Janeiro', 'RJ')}, {'nome': 'Ana', 'idade': 22, 'endereco': ('São Paulo', 'SP')}, {'nome': 'Carlos', 'idade': 30, 'endereco': ('Belo Horizonte', 'MG')}, {'nome': 'Fernanda', 'idade': 28, 'endereco': ('Curitiba', 'PR')}, {'nome': 'Marcos', 'idade': 27, 'endereco': ('Porto Alegre', 'RS')}, {'nome': 'Clara', 'idade': 26, 'endereco': ('Brasília', 'DF')}, {'nome': 'Lívia', 'idade': 24, 'endereco': ('São Paulo', 'SP')}, {'nome': 'Lucas', 'idade': 31, 'endereco': ('Salvador', 'BA')}, {'nome': 'Fernando', 'idade': 29, 'endereco': ('Fortaleza', 'CE')}, {'nome': 'Aline', 'idade': 23, 'endereco': ('Florianópolis', 'SC')}, {'nome': 'Caio', 'idade': 27, 'endereco': ('Curitiba', 'PR')}, {'nome': 'Sofia', 'idade': 21, 'endereco': ('Campinas', 'SP')}, {'nome': 'Rafaela', 'idade': 22, 'endereco': ('Recife', 'PE')}, {'nome': 'Mateus', 'idade': 32, 'endereco': ('Rio de Janeiro', 'RJ')}, {'nome': 'Tiago', 'idade': 28, 'endereco': ('Brasília', 'DF')}, {'nome': 'Juliana', 'idade': 25, 'endereco': ('São Paulo', 'SP')}, {'nome': 'Pedro', 'idade': 26, 'endereco': ('Belo Horizonte', 'MG')}, {'nome': 'Amanda', 'idade': 24, 'endereco': ('Porto Alegre', 'RS')}, {'nome': 'Bruno', 'idade': 30, 'endereco': ('Cuiabá', 'MT')}, {'nome': 'Carla', 'idade': 29, 'endereco': ('Salvador', 'BA')}, {'nome': 'Gabriela', 'idade': 27, 'endereco': ('Fortaleza', 'CE')}, {'nome': 'Thiago', 'idade': 31, 'endereco': ('São Paulo', 'SP')}, {'nome': 'Renata', 'idade': 23, 'endereco': ('Curitiba', 'PR')}, {'nome': 'Leonardo', 'idade': 29, 'endereco': ('Campinas', 'SP')}, {'nome': 'Camila', 'idade': 28, 'endereco': ('Niterói', 'RJ')}, {'nome': 'Felipe', 'idade': 27, 'endereco': ('Brasília', 'DF')}, {'nome': 'Mariana', 'idade': 30, 'endereco': ('Porto Alegre', 'RS')}, {'nome': 'Daniel', 'idade': 25, 'endereco': ('Rio de Janeiro', 'RJ')}]\n"
     ]
    }
   ],
   "source": [
    "def carregar_dados(arquivo, perfis):\n",
    "    \n",
    "    with open(arquivo, 'r', encoding='utf-8') as f:\n",
    "        for linha in f:\n",
    "            dados = linha.strip().split('?')\n",
    "            \n",
    "            perfil = {\n",
    "                \"nome\": dados[0],\n",
    "                \"idade\": int(dados[1]) if dados[1].isdigit() else None,\n",
    "                \"endereco\": (dados[2], dados[3]),\n",
    "            }\n",
    "            perfis.append(perfil)\n",
    "    \n",
    "    return perfis\n",
    "\n",
    "def filtrar_perfis_validos(perfis):\n",
    "\n",
    "    perfis_validos = []\n",
    "    for perfil in perfis:\n",
    "        if perfil.get(\"nome\") and perfil.get(\"endereco\")[0]: \n",
    "            perfis_validos.append(perfil)\n",
    "    return perfis_validos\n",
    "\n",
    "arquivo = \"C:/Users/thiag/OneDrive/Área de Trabalho/PYTHON_INFNET_TPS/TP1/TP1-PYTHON-COM-DADOS/base_inicial.txt\"\n",
    "\n",
    "perfis = carregar_dados(arquivo, perfis)\n",
    "perfis_validos = filtrar_perfis_validos(perfis)\n",
    "\n",
    "print(perfis_validos)"
   ]
  },
  {
   "cell_type": "markdown",
   "metadata": {},
   "source": [
    "### 6. Concatenando dados ⭐\n",
    "\n",
    "- Com os dados carregados no exercício anterior, adicione os usuários dos exercícios 1 e 2, definindo um padrão para lidar com os dados ausentes e salve estas informações em um arquivo \"rede_INFNET.txt\".\n",
    "\n"
   ]
  },
  {
   "cell_type": "code",
   "execution_count": 6,
   "metadata": {},
   "outputs": [
    {
     "name": "stdout",
     "output_type": "stream",
     "text": [
      "Arquivo 'rede_INFNET.txt' criado com sucesso.\n",
      "[{'nome': 'nome', 'idade': 'N/A', 'endereco': ('cidade', 'estado'), 'amigos': ['amigos']}, {'nome': 'João', 'idade': 25, 'endereco': ('Rio de Janeiro', 'RJ'), 'amigos': ['Ana', 'Carlos', 'Marcos']}, {'nome': 'Ana', 'idade': 22, 'endereco': ('São Paulo', 'SP'), 'amigos': ['João', 'Fernanda']}, {'nome': 'Carlos', 'idade': 30, 'endereco': ('Belo Horizonte', 'MG'), 'amigos': ['João', 'Marcos', 'Caio']}, {'nome': 'Fernanda', 'idade': 28, 'endereco': ('Curitiba', 'PR'), 'amigos': ['Ana']}, {'nome': 'Marcos', 'idade': 27, 'endereco': ('Porto Alegre', 'RS'), 'amigos': ['João', 'Carlos']}, {'nome': 'Clara', 'idade': 26, 'endereco': ('Brasília', 'DF'), 'amigos': ['Fernanda', 'Lívia']}, {'nome': 'Lívia', 'idade': 24, 'endereco': ('São Paulo', 'SP'), 'amigos': ['Clara', 'Lucas', 'Marcos']}, {'nome': 'Lucas', 'idade': 31, 'endereco': ('Salvador', 'BA'), 'amigos': ['Lívia', 'Fernando']}, {'nome': 'Fernando', 'idade': 29, 'endereco': ('Fortaleza', 'CE'), 'amigos': ['Lucas', 'Aline']}, {'nome': 'Aline', 'idade': 23, 'endereco': ('Florianópolis', 'SC'), 'amigos': ['Fernando', 'Caio', 'Clara']}, {'nome': 'Caio', 'idade': 27, 'endereco': ('Curitiba', 'PR'), 'amigos': ['Aline', 'Clara']}, {'nome': 'Sofia', 'idade': 21, 'endereco': ('Campinas', 'SP'), 'amigos': ['Rafaela', 'Fernanda']}, {'nome': 'Rafaela', 'idade': 22, 'endereco': ('Recife', 'PE'), 'amigos': ['Sofia', 'Clara']}, {'nome': 'Mateus', 'idade': 32, 'endereco': ('Rio de Janeiro', 'RJ'), 'amigos': ['Caio', 'Fernando', 'João']}, {'nome': 'Tiago', 'idade': 28, 'endereco': ('Brasília', 'DF'), 'amigos': ['Mateus', 'Lívia', 'Aline']}, {'nome': 'Paulo', 'idade': 33, 'endereco': ('N/A', 'RN'), 'amigos': ['Tiago', 'Fernanda', 'Lucas']}, {'nome': 'Juliana', 'idade': 25, 'endereco': ('São Paulo', 'SP'), 'amigos': ['Rafaela', 'Sofia', 'Marcos']}, {'nome': 'Pedro', 'idade': 26, 'endereco': ('Belo Horizonte', 'MG'), 'amigos': ['João', 'Aline']}, {'nome': 'Amanda', 'idade': 24, 'endereco': ('Porto Alegre', 'RS'), 'amigos': ['Pedro', 'Caio', 'Lívia']}, {'nome': 'Bruno', 'idade': 30, 'endereco': ('Cuiabá', 'MT'), 'amigos': ['Ana', 'Marcos', 'Mateus']}, {'nome': 'Carla', 'idade': 29, 'endereco': ('Salvador', 'BA'), 'amigos': ['Fernando', 'Tiago', 'Lucas']}, {'nome': 'Gabriela', 'idade': 27, 'endereco': ('Fortaleza', 'CE'), 'amigos': ['Carla', 'Aline', 'Rafaela']}, {'nome': 'N/A', 'idade': 22, 'endereco': ('Rio de Janeiro', 'RJ'), 'amigos': ['Bruno', 'Clara']}, {'nome': 'Thiago', 'idade': 31, 'endereco': ('São Paulo', 'SP'), 'amigos': ['João', 'Amanda', 'Lucas', 'Clara']}, {'nome': 'Renata', 'idade': 23, 'endereco': ('Curitiba', 'PR'), 'amigos': ['Clara', 'Fernando', 'Sofia']}, {'nome': 'Leonardo', 'idade': 29, 'endereco': ('Campinas', 'SP'), 'amigos': ['Renata', 'Mateus', 'Caio']}, {'nome': 'Camila', 'idade': 28, 'endereco': ('Niterói', 'RJ'), 'amigos': ['Juliana', 'Bruno', 'Lucas', 'Caio']}, {'nome': 'Felipe', 'idade': 27, 'endereco': ('Brasília', 'DF'), 'amigos': ['Renata', 'Carla']}, {'nome': 'Mariana', 'idade': 30, 'endereco': ('Porto Alegre', 'RS'), 'amigos': ['Felipe', 'Lívia', 'Fernando']}, {'nome': 'Daniel', 'idade': 25, 'endereco': ('Rio de Janeiro', 'RJ'), 'amigos': ['Camila', 'Paulo', 'Amanda']}, {'nome': 'Thiago Lopes', 'idade': 28, 'endereco': ('São Paulo', 'SP'), 'amigos': []}, {'nome': 'Maria Silva', 'idade': 23, 'endereco': ('Belo Horizonte', 'MG'), 'amigos': []}, {'nome': 'José Santos', 'idade': 35, 'endereco': ('Rio de Janeiro', 'RJ'), 'amigos': []}, {'nome': 'Paulo Roberto', 'idade': 45, 'endereco': ('Curitiba', 'PR'), 'amigos': []}, {'nome': 'Ana Maria', 'idade': 30, 'endereco': ('São Paulo', 'SP'), 'amigos': []}]\n"
     ]
    }
   ],
   "source": [
    "perfis = []\n",
    "\n",
    "def carregar_dados(arquivo, perfis):\n",
    "\n",
    "    with open(arquivo, 'r', encoding='utf-8') as f:\n",
    "        for linha in f:\n",
    "            dados = linha.strip().split('?')\n",
    "            \n",
    "            perfil = {\n",
    "                \"nome\": dados[0] if dados[0] else \"N/A\",\n",
    "                \"idade\": int(dados[1]) if dados[1].isdigit() else \"N/A\",\n",
    "                \"endereco\": (dados[2] if dados[2] else \"N/A\", dados[3] if len(dados) > 3 else \"N/A\"),\n",
    "                \"amigos\": dados[4:] if len(dados) > 4 else []\n",
    "            }\n",
    "            perfis.append(perfil)\n",
    "    \n",
    "    return perfis\n",
    "\n",
    "\n",
    "def salvar_rede_INFNET(perfis, novos_usuarios, arquivo_saida=\"rede_INFNET.txt\"):\n",
    "    \n",
    "    perfis.extend(novos_usuarios)\n",
    "    \n",
    "    with open(arquivo_saida, 'w', encoding='utf-8') as f:\n",
    "        for perfil in perfis:\n",
    "            nome = perfil[\"nome\"] if perfil[\"nome\"] != \"N/A\" else \"N/A\"\n",
    "            idade = perfil[\"idade\"] if perfil[\"idade\"] != \"N/A\" else \"N/A\"\n",
    "            cidade, estado = perfil[\"endereco\"]\n",
    "            cidade = cidade if cidade != \"N/A\" else \"N/A\"\n",
    "            estado = estado if estado != \"N/A\" else \"N/A\"\n",
    "            amigos = \"?\".join(perfil[\"amigos\"]) if perfil[\"amigos\"] else \"N/A\"\n",
    "            \n",
    "            linha = f\"{nome}?{idade}?{cidade}?{estado}?{amigos}\\n\"\n",
    "            f.write(linha)\n",
    "\n",
    "\n",
    "arquivo = \"C:/Users/thiag/OneDrive/Área de Trabalho/PYTHON_INFNET_TPS/TP1/TP1-PYTHON-COM-DADOS/base_inicial.txt\"\n",
    "\n",
    "\n",
    "perfis = carregar_dados(arquivo, perfis)\n",
    "\n",
    "\n",
    "novos_usuarios = [\n",
    "  {\"nome\": \"Thiago Lopes\", \"idade\": 28, \"endereco\": (\"São Paulo\", \"SP\"), \"amigos\": []},\n",
    "  {\"nome\": \"Maria Silva\", \"idade\": 23, \"endereco\": (\"Belo Horizonte\", \"MG\"), \"amigos\": []},\n",
    "  {\"nome\": \"José Santos\", \"idade\": 35, \"endereco\": (\"Rio de Janeiro\", \"RJ\"), \"amigos\": []},\n",
    "  {\"nome\": \"Paulo Roberto\", \"idade\": 45, \"endereco\": (\"Curitiba\", \"PR\"), \"amigos\": []},\n",
    "  {\"nome\": \"Ana Maria\", \"idade\": 30, \"endereco\": (\"São Paulo\", \"SP\"), \"amigos\": []}\n",
    "]\n",
    "\n",
    "salvar_rede_INFNET(perfis, novos_usuarios)\n",
    "\n",
    "print(\"Arquivo 'rede_INFNET.txt' criado com sucesso.\")\n",
    "print(perfis)\n"
   ]
  },
  {
   "cell_type": "markdown",
   "metadata": {},
   "source": [
    "### 7. Adicionando Amigos ⭐\n",
    "\n",
    "- Com o dicionário criado no exercício anterior, adicione um novo amigo ao set de amigos de um usuário específico.\n",
    "\n"
   ]
  },
  {
   "cell_type": "code",
   "execution_count": 7,
   "metadata": {},
   "outputs": [
    {
     "name": "stdout",
     "output_type": "stream",
     "text": [
      "Amigo José Santos adicionado ao perfil de Thiago Lopes.\n",
      "[{'nome': 'nome', 'idade': 'N/A', 'endereco': ('cidade', 'estado'), 'amigos': ['amigos']}, {'nome': 'João', 'idade': 25, 'endereco': ('Rio de Janeiro', 'RJ'), 'amigos': ['Ana', 'Carlos', 'Marcos']}, {'nome': 'Ana', 'idade': 22, 'endereco': ('São Paulo', 'SP'), 'amigos': ['João', 'Fernanda']}, {'nome': 'Carlos', 'idade': 30, 'endereco': ('Belo Horizonte', 'MG'), 'amigos': ['João', 'Marcos', 'Caio']}, {'nome': 'Fernanda', 'idade': 28, 'endereco': ('Curitiba', 'PR'), 'amigos': ['Ana']}, {'nome': 'Marcos', 'idade': 27, 'endereco': ('Porto Alegre', 'RS'), 'amigos': ['João', 'Carlos']}, {'nome': 'Clara', 'idade': 26, 'endereco': ('Brasília', 'DF'), 'amigos': ['Fernanda', 'Lívia']}, {'nome': 'Lívia', 'idade': 24, 'endereco': ('São Paulo', 'SP'), 'amigos': ['Clara', 'Lucas', 'Marcos']}, {'nome': 'Lucas', 'idade': 31, 'endereco': ('Salvador', 'BA'), 'amigos': ['Lívia', 'Fernando']}, {'nome': 'Fernando', 'idade': 29, 'endereco': ('Fortaleza', 'CE'), 'amigos': ['Lucas', 'Aline']}, {'nome': 'Aline', 'idade': 23, 'endereco': ('Florianópolis', 'SC'), 'amigos': ['Fernando', 'Caio', 'Clara']}, {'nome': 'Caio', 'idade': 27, 'endereco': ('Curitiba', 'PR'), 'amigos': ['Aline', 'Clara']}, {'nome': 'Sofia', 'idade': 21, 'endereco': ('Campinas', 'SP'), 'amigos': ['Rafaela', 'Fernanda']}, {'nome': 'Rafaela', 'idade': 22, 'endereco': ('Recife', 'PE'), 'amigos': ['Sofia', 'Clara']}, {'nome': 'Mateus', 'idade': 32, 'endereco': ('Rio de Janeiro', 'RJ'), 'amigos': ['Caio', 'Fernando', 'João']}, {'nome': 'Tiago', 'idade': 28, 'endereco': ('Brasília', 'DF'), 'amigos': ['Mateus', 'Lívia', 'Aline']}, {'nome': 'Paulo', 'idade': 33, 'endereco': ('N/A', 'RN'), 'amigos': ['Tiago', 'Fernanda', 'Lucas']}, {'nome': 'Juliana', 'idade': 25, 'endereco': ('São Paulo', 'SP'), 'amigos': ['Rafaela', 'Sofia', 'Marcos']}, {'nome': 'Pedro', 'idade': 26, 'endereco': ('Belo Horizonte', 'MG'), 'amigos': ['João', 'Aline']}, {'nome': 'Amanda', 'idade': 24, 'endereco': ('Porto Alegre', 'RS'), 'amigos': ['Pedro', 'Caio', 'Lívia']}, {'nome': 'Bruno', 'idade': 30, 'endereco': ('Cuiabá', 'MT'), 'amigos': ['Ana', 'Marcos', 'Mateus']}, {'nome': 'Carla', 'idade': 29, 'endereco': ('Salvador', 'BA'), 'amigos': ['Fernando', 'Tiago', 'Lucas']}, {'nome': 'Gabriela', 'idade': 27, 'endereco': ('Fortaleza', 'CE'), 'amigos': ['Carla', 'Aline', 'Rafaela']}, {'nome': 'N/A', 'idade': 22, 'endereco': ('Rio de Janeiro', 'RJ'), 'amigos': ['Bruno', 'Clara']}, {'nome': 'Thiago', 'idade': 31, 'endereco': ('São Paulo', 'SP'), 'amigos': ['João', 'Amanda', 'Lucas', 'Clara']}, {'nome': 'Renata', 'idade': 23, 'endereco': ('Curitiba', 'PR'), 'amigos': ['Clara', 'Fernando', 'Sofia']}, {'nome': 'Leonardo', 'idade': 29, 'endereco': ('Campinas', 'SP'), 'amigos': ['Renata', 'Mateus', 'Caio']}, {'nome': 'Camila', 'idade': 28, 'endereco': ('Niterói', 'RJ'), 'amigos': ['Juliana', 'Bruno', 'Lucas', 'Caio']}, {'nome': 'Felipe', 'idade': 27, 'endereco': ('Brasília', 'DF'), 'amigos': ['Renata', 'Carla']}, {'nome': 'Mariana', 'idade': 30, 'endereco': ('Porto Alegre', 'RS'), 'amigos': ['Felipe', 'Lívia', 'Fernando']}, {'nome': 'Daniel', 'idade': 25, 'endereco': ('Rio de Janeiro', 'RJ'), 'amigos': ['Camila', 'Paulo', 'Amanda']}, {'nome': 'Thiago Lopes', 'idade': 28, 'endereco': ('São Paulo', 'SP'), 'amigos': ['José Santos']}, {'nome': 'Maria Silva', 'idade': 23, 'endereco': ('Belo Horizonte', 'MG'), 'amigos': []}, {'nome': 'José Santos', 'idade': 35, 'endereco': ('Rio de Janeiro', 'RJ'), 'amigos': []}, {'nome': 'Paulo Roberto', 'idade': 45, 'endereco': ('Curitiba', 'PR'), 'amigos': []}, {'nome': 'Ana Maria', 'idade': 30, 'endereco': ('São Paulo', 'SP'), 'amigos': []}, {'nome': 'nome', 'idade': 'N/A', 'endereco': ('cidade', 'estado'), 'amigos': ['amigos']}, {'nome': 'João', 'idade': 25, 'endereco': ('Rio de Janeiro', 'RJ'), 'amigos': ['Ana', 'Carlos', 'Marcos']}, {'nome': 'Ana', 'idade': 22, 'endereco': ('São Paulo', 'SP'), 'amigos': ['João', 'Fernanda']}, {'nome': 'Carlos', 'idade': 30, 'endereco': ('Belo Horizonte', 'MG'), 'amigos': ['João', 'Marcos', 'Caio']}, {'nome': 'Fernanda', 'idade': 28, 'endereco': ('Curitiba', 'PR'), 'amigos': ['Ana']}, {'nome': 'Marcos', 'idade': 27, 'endereco': ('Porto Alegre', 'RS'), 'amigos': ['João', 'Carlos']}, {'nome': 'Clara', 'idade': 26, 'endereco': ('Brasília', 'DF'), 'amigos': ['Fernanda', 'Lívia']}, {'nome': 'Lívia', 'idade': 24, 'endereco': ('São Paulo', 'SP'), 'amigos': ['Clara', 'Lucas', 'Marcos']}, {'nome': 'Lucas', 'idade': 31, 'endereco': ('Salvador', 'BA'), 'amigos': ['Lívia', 'Fernando']}, {'nome': 'Fernando', 'idade': 29, 'endereco': ('Fortaleza', 'CE'), 'amigos': ['Lucas', 'Aline']}, {'nome': 'Aline', 'idade': 23, 'endereco': ('Florianópolis', 'SC'), 'amigos': ['Fernando', 'Caio', 'Clara']}, {'nome': 'Caio', 'idade': 27, 'endereco': ('Curitiba', 'PR'), 'amigos': ['Aline', 'Clara']}, {'nome': 'Sofia', 'idade': 21, 'endereco': ('Campinas', 'SP'), 'amigos': ['Rafaela', 'Fernanda']}, {'nome': 'Rafaela', 'idade': 22, 'endereco': ('Recife', 'PE'), 'amigos': ['Sofia', 'Clara']}, {'nome': 'Mateus', 'idade': 32, 'endereco': ('Rio de Janeiro', 'RJ'), 'amigos': ['Caio', 'Fernando', 'João']}, {'nome': 'Tiago', 'idade': 28, 'endereco': ('Brasília', 'DF'), 'amigos': ['Mateus', 'Lívia', 'Aline']}, {'nome': 'Paulo', 'idade': 33, 'endereco': ('N/A', 'RN'), 'amigos': ['Tiago', 'Fernanda', 'Lucas']}, {'nome': 'Juliana', 'idade': 25, 'endereco': ('São Paulo', 'SP'), 'amigos': ['Rafaela', 'Sofia', 'Marcos']}, {'nome': 'Pedro', 'idade': 26, 'endereco': ('Belo Horizonte', 'MG'), 'amigos': ['João', 'Aline']}, {'nome': 'Amanda', 'idade': 24, 'endereco': ('Porto Alegre', 'RS'), 'amigos': ['Pedro', 'Caio', 'Lívia']}, {'nome': 'Bruno', 'idade': 30, 'endereco': ('Cuiabá', 'MT'), 'amigos': ['Ana', 'Marcos', 'Mateus']}, {'nome': 'Carla', 'idade': 29, 'endereco': ('Salvador', 'BA'), 'amigos': ['Fernando', 'Tiago', 'Lucas']}, {'nome': 'Gabriela', 'idade': 27, 'endereco': ('Fortaleza', 'CE'), 'amigos': ['Carla', 'Aline', 'Rafaela']}, {'nome': 'N/A', 'idade': 22, 'endereco': ('Rio de Janeiro', 'RJ'), 'amigos': ['Bruno', 'Clara']}, {'nome': 'Thiago', 'idade': 31, 'endereco': ('São Paulo', 'SP'), 'amigos': ['João', 'Amanda', 'Lucas', 'Clara']}, {'nome': 'Renata', 'idade': 23, 'endereco': ('Curitiba', 'PR'), 'amigos': ['Clara', 'Fernando', 'Sofia']}, {'nome': 'Leonardo', 'idade': 29, 'endereco': ('Campinas', 'SP'), 'amigos': ['Renata', 'Mateus', 'Caio']}, {'nome': 'Camila', 'idade': 28, 'endereco': ('Niterói', 'RJ'), 'amigos': ['Juliana', 'Bruno', 'Lucas', 'Caio']}, {'nome': 'Felipe', 'idade': 27, 'endereco': ('Brasília', 'DF'), 'amigos': ['Renata', 'Carla']}, {'nome': 'Mariana', 'idade': 30, 'endereco': ('Porto Alegre', 'RS'), 'amigos': ['Felipe', 'Lívia', 'Fernando']}, {'nome': 'Daniel', 'idade': 25, 'endereco': ('Rio de Janeiro', 'RJ'), 'amigos': ['Camila', 'Paulo', 'Amanda']}, {'nome': 'Thiago Lopes', 'idade': 28, 'endereco': ('São Paulo', 'SP'), 'amigos': []}, {'nome': 'Maria Silva', 'idade': 23, 'endereco': ('Belo Horizonte', 'MG'), 'amigos': []}, {'nome': 'José Santos', 'idade': 35, 'endereco': ('Rio de Janeiro', 'RJ'), 'amigos': []}, {'nome': 'Paulo Roberto', 'idade': 45, 'endereco': ('Curitiba', 'PR'), 'amigos': []}, {'nome': 'Ana Maria', 'idade': 30, 'endereco': ('São Paulo', 'SP'), 'amigos': []}]\n"
     ]
    }
   ],
   "source": [
    "def adicionar_amigo(perfis, nome_usuario, nome_amigo):\n",
    "    for perfil in perfis:\n",
    "        if perfil[\"nome\"] == nome_usuario:\n",
    "            if nome_amigo not in perfil[\"amigos\"]:\n",
    "                perfil[\"amigos\"].append(nome_amigo)\n",
    "                print(f\"Amigo {nome_amigo} adicionado ao perfil de {nome_usuario}.\")\n",
    "            else:\n",
    "                print(f\"{nome_amigo} já é amigo de {nome_usuario}.\")\n",
    "            break\n",
    "    else:\n",
    "        print(f\"Usuário {nome_usuario} não encontrado.\")\n",
    "\n",
    "\n",
    "arquivo = \"C:/Users/thiag/OneDrive/Área de Trabalho/PYTHON_INFNET_TPS/TP1/TP1-PYTHON-COM-DADOS/base_inicial.txt\"\n",
    "\n",
    "\n",
    "perfis = carregar_dados(arquivo, perfis)\n",
    "\n",
    "\n",
    "novos_usuarios = [\n",
    "  {\"nome\": \"Thiago Lopes\", \"idade\": 28, \"endereco\": (\"São Paulo\", \"SP\"), \"amigos\": []},\n",
    "  {\"nome\": \"Maria Silva\", \"idade\": 23, \"endereco\": (\"Belo Horizonte\", \"MG\"), \"amigos\": []},\n",
    "  {\"nome\": \"José Santos\", \"idade\": 35, \"endereco\": (\"Rio de Janeiro\", \"RJ\"), \"amigos\": []},\n",
    "  {\"nome\": \"Paulo Roberto\", \"idade\": 45, \"endereco\": (\"Curitiba\", \"PR\"), \"amigos\": []},\n",
    "  {\"nome\": \"Ana Maria\", \"idade\": 30, \"endereco\": (\"São Paulo\", \"SP\"), \"amigos\": []}\n",
    "]\n",
    "\n",
    "\n",
    "perfis.extend(novos_usuarios)\n",
    "\n",
    "adicionar_amigo(perfis, \"Thiago Lopes\", \"José Santos\")\n",
    "\n",
    "print(perfis)\n"
   ]
  },
  {
   "cell_type": "markdown",
   "metadata": {},
   "source": [
    "### 8. Verificando Conexões ⭐⭐\n",
    "\n",
    "- Crie um programa que permita verificar se um determinado usuário foi adicionado como amigo de mais de 4 usuários. Caso tenha, exiba uma mensagem afirmando que o usuário é \"popular\".\n",
    "\n"
   ]
  },
  {
   "cell_type": "code",
   "execution_count": 8,
   "metadata": {},
   "outputs": [
    {
     "name": "stdout",
     "output_type": "stream",
     "text": [
      "O usuário Thiago Lopes não é popular. Foi adicionado como amigo por apenas 0 usuários.\n"
     ]
    }
   ],
   "source": [
    "def verificar_usuario_popular(perfis, nome_usuario):\n",
    "    contador = 0\n",
    "    for perfil in perfis:\n",
    "        if nome_usuario in perfil[\"amigos\"]:\n",
    "            contador += 1\n",
    "    \n",
    "    if contador > 4:\n",
    "        print(f\"O usuário {nome_usuario} é popular! Foi adicionado como amigo por {contador} usuários.\")\n",
    "    else:\n",
    "        print(f\"O usuário {nome_usuario} não é popular. Foi adicionado como amigo por apenas {contador} usuários.\")\n",
    "\n",
    "verificar_usuario_popular(perfis, \"Thiago Lopes\")\n"
   ]
  },
  {
   "cell_type": "markdown",
   "metadata": {},
   "source": [
    "### 9. Amigos em Comum ⭐⭐\n",
    "\n",
    "- Crie um programa que selecione dois perfis aleatórios e utilize sets para armazenar os amigos de cada um desses usuários do INFwebNET. Exiba os amigos em comum entre esses dois usuários, utilizando métodos e operação de sets.\n",
    "\n"
   ]
  },
  {
   "cell_type": "code",
   "execution_count": 9,
   "metadata": {},
   "outputs": [
    {
     "name": "stdout",
     "output_type": "stream",
     "text": [
      "Amigos em comum entre Renata e Aline: Fernando, Clara\n"
     ]
    }
   ],
   "source": [
    "import random\n",
    "\n",
    "def amigos_em_comum(perfis):\n",
    "\n",
    "    perfil_1, perfil_2 = random.sample(perfis, 2)\n",
    " \n",
    "    amigos_perfil_1 = set(perfil_1[\"amigos\"])\n",
    "    amigos_perfil_2 = set(perfil_2[\"amigos\"])\n",
    "    \n",
    "\n",
    "    amigos_comum = amigos_perfil_1 & amigos_perfil_2  \n",
    "    \n",
    "    if amigos_comum:\n",
    "        print(f\"Amigos em comum entre {perfil_1['nome']} e {perfil_2['nome']}: {', '.join(amigos_comum)}\")\n",
    "    else:\n",
    "        print(f\"{perfil_1['nome']} e {perfil_2['nome']} não têm amigos em comum.\")\n",
    "\n",
    "amigos_em_comum(perfis)\n",
    "\n"
   ]
  },
  {
   "cell_type": "markdown",
   "metadata": {},
   "source": [
    "### 10. Conexões Exclusivas ⭐⭐\n",
    "\n",
    "- Utilizando os sets do exercício anterior, exiba os amigos que são exclusivos de cada usuário, ou seja, aqueles que não são amigos em comum.\n",
    "\n"
   ]
  },
  {
   "cell_type": "code",
   "execution_count": 10,
   "metadata": {},
   "outputs": [
    {
     "name": "stdout",
     "output_type": "stream",
     "text": [
      "Amigos exclusivos de Paulo: Lucas, Tiago, Fernanda\n",
      "Amigos exclusivos de Carlos: Marcos, João, Caio\n"
     ]
    }
   ],
   "source": [
    "def amigos_exclusivos(perfis):\n",
    " \n",
    "\n",
    "    perfil_1, perfil_2 = random.sample(perfis, 2)\n",
    "    \n",
    "\n",
    "    amigos_perfil_1 = set(perfil_1[\"amigos\"])\n",
    "    amigos_perfil_2 = set(perfil_2[\"amigos\"])\n",
    "    \n",
    "\n",
    "    amigos_exclusivos_1 = amigos_perfil_1 - amigos_perfil_2  \n",
    "    amigos_exclusivos_2 = amigos_perfil_2 - amigos_perfil_1  \n",
    "    \n",
    "   \n",
    "    if amigos_exclusivos_1:\n",
    "        print(f\"Amigos exclusivos de {perfil_1['nome']}: {', '.join(amigos_exclusivos_1)}\")\n",
    "    else:\n",
    "        print(f\"{perfil_1['nome']} não tem amigos exclusivos.\")\n",
    "    \n",
    "    if amigos_exclusivos_2:\n",
    "        print(f\"Amigos exclusivos de {perfil_2['nome']}: {', '.join(amigos_exclusivos_2)}\")\n",
    "    else:\n",
    "        print(f\"{perfil_2['nome']} não tem amigos exclusivos.\")\n",
    "\n",
    "amigos_exclusivos(perfis)\n"
   ]
  },
  {
   "cell_type": "markdown",
   "metadata": {},
   "source": [
    "### 11. Removendo Conexões ⭐⭐\n",
    "\n",
    "- Permita que o usuário remova um amigo da lista de conexões de um membro do INFwebNET específico no dicionário criado no exercício 4.\n",
    "\n"
   ]
  },
  {
   "cell_type": "code",
   "execution_count": 11,
   "metadata": {},
   "outputs": [
    {
     "name": "stdout",
     "output_type": "stream",
     "text": [
      "José Santos foi removido das conexões de Thiago Lopes.\n"
     ]
    }
   ],
   "source": [
    "def remover_amigo(perfis, nome_usuario, nome_amigo):\n",
    "   \n",
    "\n",
    "    usuario_encontrado = None\n",
    "    for perfil in perfis:\n",
    "        if perfil[\"nome\"] == nome_usuario:\n",
    "            usuario_encontrado = perfil\n",
    "            break\n",
    "    \n",
    "\n",
    "    if usuario_encontrado:\n",
    "        \n",
    "        if nome_amigo in usuario_encontrado[\"amigos\"]:\n",
    "            usuario_encontrado[\"amigos\"].remove(nome_amigo) \n",
    "            print(f\"{nome_amigo} foi removido das conexões de {nome_usuario}.\")\n",
    "        else:\n",
    "            print(f\"{nome_amigo} não está na lista de amigos de {nome_usuario}.\")\n",
    "    else:\n",
    "        print(f\"Usuário {nome_usuario} não encontrado.\")\n",
    "        \n",
    "remover_amigo(perfis, \"Thiago Lopes\", \"José Santos\")\n",
    "\n"
   ]
  },
  {
   "cell_type": "markdown",
   "metadata": {},
   "source": [
    "### 12. Salvando o Progresso ⭐⭐\n",
    "\n",
    "- Após adicionar ou remover amigos, salve o dicionário atualizado em um novo arquivo chamado \"rede_INFNET_atualizado.txt\".\n",
    "\n"
   ]
  },
  {
   "cell_type": "code",
   "execution_count": 12,
   "metadata": {},
   "outputs": [
    {
     "name": "stdout",
     "output_type": "stream",
     "text": [
      "José Santos não está na lista de amigos de Thiago Lopes.\n",
      "Arquivo 'rede_INFNET_atualizado.txt' atualizado com sucesso.\n"
     ]
    }
   ],
   "source": [
    "def salvar_rede_INFNET_atualizado(perfis, arquivo_saida=\"rede_INFNET_atualizado.txt\"):\n",
    "    with open(arquivo_saida, 'w', encoding='utf-8') as f:\n",
    "        for perfil in perfis:\n",
    "            nome = perfil[\"nome\"] if perfil[\"nome\"] != \"N/A\" else \"N/A\"\n",
    "            idade = perfil[\"idade\"] if perfil[\"idade\"] != \"N/A\" else \"N/A\"\n",
    "            cidade, estado = perfil[\"endereco\"]\n",
    "            cidade = cidade if cidade != \"N/A\" else \"N/A\"\n",
    "            estado = estado if estado != \"N/A\" else \"N/A\"\n",
    "            amigos = \"?\".join(perfil[\"amigos\"]) if perfil[\"amigos\"] else \"N/A\"\n",
    "            \n",
    "            linha = f\"{nome}?{idade}?{cidade}?{estado}?{amigos}\\n\"\n",
    "            f.write(linha)\n",
    "\n",
    "    print(f\"Arquivo '{arquivo_saida}' atualizado com sucesso.\")\n",
    "\n",
    "\n",
    "remover_amigo(perfis, \"Thiago Lopes\", \"José Santos\")\n",
    "\n",
    "salvar_rede_INFNET_atualizado(perfis)\n",
    "\n"
   ]
  },
  {
   "cell_type": "markdown",
   "metadata": {},
   "source": [
    "### 13. Listando Usuários ⭐\n",
    "\n",
    "- Escreva um programa que leia o arquivo \"rede_INFNET.txt\" e imprima na tela a lista dos nomes de todos os usuários da rede social.\n",
    "\n"
   ]
  },
  {
   "cell_type": "code",
   "execution_count": 13,
   "metadata": {},
   "outputs": [
    {
     "name": "stdout",
     "output_type": "stream",
     "text": [
      "nome\n",
      "João\n",
      "Ana\n",
      "Carlos\n",
      "Fernanda\n",
      "Marcos\n",
      "Clara\n",
      "Lívia\n",
      "Lucas\n",
      "Fernando\n",
      "Aline\n",
      "Caio\n",
      "Sofia\n",
      "Rafaela\n",
      "Mateus\n",
      "Tiago\n",
      "Paulo\n",
      "Juliana\n",
      "Pedro\n",
      "Amanda\n",
      "Bruno\n",
      "Carla\n",
      "Gabriela\n",
      "N/A\n",
      "Thiago\n",
      "Renata\n",
      "Leonardo\n",
      "Camila\n",
      "Felipe\n",
      "Mariana\n",
      "Daniel\n",
      "Thiago Lopes\n",
      "Maria Silva\n",
      "José Santos\n",
      "Paulo Roberto\n",
      "Ana Maria\n"
     ]
    }
   ],
   "source": [
    "def listar_usuarios(arquivo):\n",
    "  \n",
    "    with open(arquivo, 'r', encoding='utf-8') as f:\n",
    "        for linha in f:\n",
    "         \n",
    "            dados = linha.strip().split('?')\n",
    "            nome = dados[0] if dados[0] else \"N/A\"\n",
    "            \n",
    "        \n",
    "            print(nome)\n",
    "\n",
    "\n",
    "arquivo = \"rede_INFNET.txt\"\n",
    "\n",
    "listar_usuarios(arquivo)\n"
   ]
  },
  {
   "cell_type": "markdown",
   "metadata": {},
   "source": [
    "### 14. Quantidade de Amigos ⭐⭐\n",
    "\n",
    "- Crie uma função que leia o arquivo \"rede_INFNET.txt\" e mostre quantos amigos cada usuário possui, imprimindo o nome do usuário e a quantidade de amigos.\n",
    "\n"
   ]
  },
  {
   "cell_type": "code",
   "execution_count": 14,
   "metadata": {},
   "outputs": [
    {
     "name": "stdout",
     "output_type": "stream",
     "text": [
      "nome tem 1 amigo(s).\n",
      "João tem 3 amigo(s).\n",
      "Ana tem 2 amigo(s).\n",
      "Carlos tem 3 amigo(s).\n",
      "Fernanda tem 1 amigo(s).\n",
      "Marcos tem 2 amigo(s).\n",
      "Clara tem 2 amigo(s).\n",
      "Lívia tem 3 amigo(s).\n",
      "Lucas tem 2 amigo(s).\n",
      "Fernando tem 2 amigo(s).\n",
      "Aline tem 3 amigo(s).\n",
      "Caio tem 2 amigo(s).\n",
      "Sofia tem 2 amigo(s).\n",
      "Rafaela tem 2 amigo(s).\n",
      "Mateus tem 3 amigo(s).\n",
      "Tiago tem 3 amigo(s).\n",
      "Paulo tem 3 amigo(s).\n",
      "Juliana tem 3 amigo(s).\n",
      "Pedro tem 2 amigo(s).\n",
      "Amanda tem 3 amigo(s).\n",
      "Bruno tem 3 amigo(s).\n",
      "Carla tem 3 amigo(s).\n",
      "Gabriela tem 3 amigo(s).\n",
      "N/A tem 2 amigo(s).\n",
      "Thiago tem 4 amigo(s).\n",
      "Renata tem 3 amigo(s).\n",
      "Leonardo tem 3 amigo(s).\n",
      "Camila tem 4 amigo(s).\n",
      "Felipe tem 2 amigo(s).\n",
      "Mariana tem 3 amigo(s).\n",
      "Daniel tem 3 amigo(s).\n",
      "Thiago Lopes tem 1 amigo(s).\n",
      "Maria Silva tem 1 amigo(s).\n",
      "José Santos tem 1 amigo(s).\n",
      "Paulo Roberto tem 1 amigo(s).\n",
      "Ana Maria tem 1 amigo(s).\n"
     ]
    }
   ],
   "source": [
    "def contar_amigos(arquivo):\n",
    "\n",
    "    with open(arquivo, 'r', encoding='utf-8') as f:\n",
    "        for linha in f:\n",
    "           \n",
    "            dados = linha.strip().split('?')\n",
    "            nome = dados[0] if dados[0] else \"N/A\"\n",
    "            amigos = dados[4:] if len(dados) > 4 else []  \n",
    "            quantidade_amigos = len(amigos)\n",
    "            print(f\"{nome} tem {quantidade_amigos} amigo(s).\")\n",
    "\n",
    "# Caminho do arquivo\n",
    "arquivo = \"rede_INFNET.txt\"\n",
    "\n",
    "contar_amigos(arquivo)\n"
   ]
  },
  {
   "cell_type": "markdown",
   "metadata": {},
   "source": [
    "### 15. Usuários Mais Populares ⭐⭐⭐\n",
    "\n",
    "- Analise o arquivo \"rede_INFNET_atualizado.txt\" e identifique os 5 usuários que foram marcados como amigos pelo maior número de usuários cadastrados. Exiba o nome desses usuários e a quantidade de amigos que cada um possui.\n",
    "\n"
   ]
  },
  {
   "cell_type": "code",
   "execution_count": 15,
   "metadata": {},
   "outputs": [
    {
     "name": "stdout",
     "output_type": "stream",
     "text": [
      "Os 5 usuários mais populares:\n",
      "Clara - 14 amigo(s)\n",
      "João - 12 amigo(s)\n",
      "Caio - 12 amigo(s)\n",
      "Lucas - 12 amigo(s)\n",
      "Fernando - 12 amigo(s)\n"
     ]
    }
   ],
   "source": [
    "from collections import Counter\n",
    "\n",
    "def usuarios_mais_populares(arquivo, top_n=5):\n",
    "   \n",
    "    amigos_contagem = Counter()\n",
    "\n",
    "    \n",
    "    with open(arquivo, 'r', encoding='utf-8') as f:\n",
    "        for linha in f:\n",
    "            dados = linha.strip().split('?')\n",
    "            if len(dados) > 4: \n",
    "                amigos = dados[4:]  \n",
    "                amigos_contagem.update(amigos) \n",
    "    \n",
    " \n",
    "    mais_populares = amigos_contagem.most_common(top_n)\n",
    "    \n",
    "   \n",
    "    print(f\"Os {top_n} usuários mais populares:\")\n",
    "    for usuario, quantidade in mais_populares:\n",
    "        print(f\"{usuario} - {quantidade} amigo(s)\")\n",
    "\n",
    "\n",
    "arquivo_atualizado = \"rede_INFNET_atualizado.txt\"\n",
    "\n",
    "usuarios_mais_populares(arquivo_atualizado)\n"
   ]
  },
  {
   "cell_type": "markdown",
   "metadata": {},
   "source": [
    "### 16. Lidando com arquivos ⭐⭐\n",
    "\n",
    "- Explique com suas palavras a importância de utilizar o recurso ‘with’ ao lidar com arquivos em Python.\n"
   ]
  },
  {
   "cell_type": "markdown",
   "metadata": {},
   "source": [
    "De acordo com o professor Dácio, o uso de with em Python é uma prática recomendada ao trabalhar com arquivos, pois torna o código mais seguro, eficiente e fácil de entender! Além de garantir que recursos sejam liberados adequadamente, evitando erros e falhas de desempenho, garantindo integridade e segurança dos arquivos. "
   ]
  },
  {
   "cell_type": "code",
   "execution_count": 18,
   "metadata": {},
   "outputs": [],
   "source": [
    "# Usando o 'with' para garantir que o arquivo será fechado corretamente\n",
    "with open(\"rede_INFNET.txt\", \"r\") as f:\n",
    "    conteudo = f.read()  # Lê o conteúdo do arquivo\n",
    "\n",
    "# O arquivo é automaticamente fechado quando o bloco 'with' termina"
   ]
  },
  {
   "cell_type": "markdown",
   "metadata": {},
   "source": [
    "### 16. Lidando com arquivos ⭐⭐\n",
    "\n",
    "- Explique com suas palavras a importância de utilizar o recurso ‘with’ ao lidar com arquivos em Python.\n"
   ]
  },
  {
   "cell_type": "markdown",
   "metadata": {},
   "source": [
    "\n",
    "A entrega deste TP pode ser feita com envio de todos os arquivos utilizados na solução compactados em um arquivo zip submetido na plataforma Moodle e realizando o commit e push no repositório criado para este fim.\n",
    "\n",
    "Assim que terminar, salve seu trabalho em zip nomeando o arquivo conforme a regra “nome_sobrenome_DR4_TP1.ZIP” e poste como resposta a este TP."
   ]
  }
 ],
 "metadata": {
  "kernelspec": {
   "display_name": "Python 3",
   "language": "python",
   "name": "python3"
  },
  "language_info": {
   "codemirror_mode": {
    "name": "ipython",
    "version": 3
   },
   "file_extension": ".py",
   "mimetype": "text/x-python",
   "name": "python",
   "nbconvert_exporter": "python",
   "pygments_lexer": "ipython3",
   "version": "3.12.7"
  }
 },
 "nbformat": 4,
 "nbformat_minor": 2
}
